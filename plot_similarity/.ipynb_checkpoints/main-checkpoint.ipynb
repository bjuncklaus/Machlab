{
 "cells": [
  {
   "cell_type": "code",
   "execution_count": 17,
   "metadata": {
    "collapsed": true
   },
   "outputs": [],
   "source": [
    "import pandas as pd\n",
    "from sklearn.feature_extraction.text import TfidfVectorizer\n",
    "from scipy.spatial.distance import cosine"
   ]
  },
  {
   "cell_type": "code",
   "execution_count": 8,
   "metadata": {
    "collapsed": true
   },
   "outputs": [],
   "source": [
    "s = \"This concept of distance is not restricted to two dimensions.\"\n",
    "list_s = [\"It is not difficult to imagine the figure above translated into three dimensions.\", \"We can persuade ourselves that the measure of distance extends to an arbitrary number of dimensions;\"]"
   ]
  },
  {
   "cell_type": "code",
   "execution_count": 22,
   "metadata": {
    "collapsed": false
   },
   "outputs": [],
   "source": [
    "tfidf = TfidfVectorizer(norm='l2', min_df=0, use_idf=True, smooth_idf=False, sublinear_tf=True)\n",
    "bow_matrix = tfidf.fit_transform([s, ' '.join(list_s)])"
   ]
  },
  {
   "cell_type": "code",
   "execution_count": 20,
   "metadata": {
    "collapsed": false
   },
   "outputs": [
    {
     "name": "stdout",
     "output_type": "stream",
     "text": [
      "  (0, 24)\t0.31944389216\n",
      "  (0, 11)\t0.31944389216\n",
      "  (0, 26)\t0.31944389216\n",
      "  (0, 0)\t0.31944389216\n",
      "  (0, 9)\t0.31944389216\n",
      "  (0, 22)\t0.213935297555\n",
      "  (0, 10)\t0.31944389216\n",
      "  (0, 5)\t0.31944389216\n",
      "  (0, 13)\t0.31944389216\n",
      "  (0, 6)\t0.152216726207\n",
      "  (0, 25)\t0.152216726207\n",
      "  (0, 15)\t0.213935297555\n",
      "  (0, 12)\t0.213935297555\n"
     ]
    }
   ],
   "source": [
    "X = tfidf.fit_transform([s] + list_s)\n",
    "cosine(X[0].toarray(), X[1].toarray())\n",
    "print(X[1])"
   ]
  }
 ],
 "metadata": {
  "anaconda-cloud": {},
  "kernelspec": {
   "display_name": "Python [default]",
   "language": "python",
   "name": "python3"
  },
  "language_info": {
   "codemirror_mode": {
    "name": "ipython",
    "version": 3
   },
   "file_extension": ".py",
   "mimetype": "text/x-python",
   "name": "python",
   "nbconvert_exporter": "python",
   "pygments_lexer": "ipython3",
   "version": "3.5.2"
  }
 },
 "nbformat": 4,
 "nbformat_minor": 1
}
