{
 "cells": [
  {
   "cell_type": "code",
   "execution_count": 114,
   "metadata": {},
   "outputs": [],
   "source": [
    "import pandas as pd\n",
    "from sklearn.feature_extraction.text import TfidfVectorizer\n",
    "from scipy.spatial.distance import cosine\n",
    "from sklearn.metrics.pairwise import cosine_similarity\n",
    "from nltk.stem.porter import PorterStemmer\n",
    "import numpy as np"
   ]
  },
  {
   "cell_type": "code",
   "execution_count": 115,
   "metadata": {
    "collapsed": true
   },
   "outputs": [],
   "source": [
    "s = \"This concept of distance is not restricted to two dimensions.\"\n",
    "# list_s = [\"This concept of distance is not restricted to two dimensions.\", \"This concept of distance is not restricted to two dimensions.\"]\n",
    "corpus = [\n",
    "        'This is the first document.',\n",
    "        'This is the second second document.',\n",
    "        'And the third one.',\n",
    "        'Is this the first document?',\n",
    "        'It is not difficult to imagine the figure above translated into three dimensions.',\n",
    "        'We can persuade ourselves that the measure of distance extends to an arbitrary number of dimensions;',\n",
    "        ]"
   ]
  },
  {
   "cell_type": "code",
   "execution_count": 116,
   "metadata": {},
   "outputs": [],
   "source": [
    "stemmer = PorterStemmer()\n",
    "\n",
    "def stem(text):\n",
    "    text_stem = [stemmer.stem(token) for token in text.split(' ')]\n",
    "    text_stem_join = ' '.join(text_stem)\n",
    "    return text_stem_join\n",
    "corpus_stem = list(map(stem, corpus))"
   ]
  },
  {
   "cell_type": "markdown",
   "metadata": {},
   "source": [
    "## TODO - Show the tfidf.get_stop_words()"
   ]
  },
  {
   "cell_type": "code",
   "execution_count": 117,
   "metadata": {},
   "outputs": [
    {
     "name": "stdout",
     "output_type": "stream",
     "text": [
      "['abov', 'arbitrari', 'concept', 'difficult', 'dimensions', 'distanc', 'distance', 'document', 'extend', 'figur', 'imagin', 'measur', 'number', 'ourselv', 'persuad', 'restricted', 'second', 'thi', 'translat']\n",
      "[[ 0.          0.          0.54286774  0.          0.34041718  0.\n",
      "   0.54286774  0.          0.          0.          0.          0.          0.\n",
      "   0.          0.          0.54286774  0.          0.          0.        ]\n",
      " [ 0.          0.          0.          0.          0.          0.          0.\n",
      "   0.70710678  0.          0.          0.          0.          0.          0.\n",
      "   0.          0.          0.          0.70710678  0.        ]\n",
      " [ 0.          0.          0.          0.          0.          0.          0.\n",
      "   0.32808134  0.          0.          0.          0.          0.          0.\n",
      "   0.          0.          0.8858472   0.32808134  0.        ]\n",
      " [ 0.          0.          0.          0.          0.          0.          0.\n",
      "   0.          0.          0.          0.          0.          0.          0.\n",
      "   0.          0.          0.          0.          0.        ]\n",
      " [ 0.          0.          0.          0.          0.          0.          0.\n",
      "   0.70710678  0.          0.          0.          0.          0.          0.\n",
      "   0.          0.          0.          0.70710678  0.        ]\n",
      " [ 0.43060192  0.          0.          0.43060192  0.27001842  0.          0.\n",
      "   0.          0.          0.43060192  0.43060192  0.          0.          0.\n",
      "   0.          0.          0.          0.          0.43060192]\n",
      " [ 0.          0.36777585  0.          0.          0.23062195  0.36777585\n",
      "   0.          0.          0.36777585  0.          0.          0.36777585\n",
      "   0.36777585  0.36777585  0.36777585  0.          0.          0.          0.        ]]\n"
     ]
    }
   ],
   "source": [
    "tfidf = TfidfVectorizer(norm='l2', min_df=0, use_idf=True, smooth_idf=False, sublinear_tf=True, stop_words='english')\n",
    "\n",
    "X = tfidf.fit_transform([s] + corpus_stem)\n",
    "print(tfidf.get_feature_names())\n",
    "print(X.toarray())"
   ]
  },
  {
   "cell_type": "code",
   "execution_count": 118,
   "metadata": {},
   "outputs": [
    {
     "name": "stdout",
     "output_type": "stream",
     "text": [
      "cosine distance 0 -> 1:  1.0\n",
      "cosine distance 0 -> 2:  1.0\n",
      "cosine similarity 0 -> 1:  [[ 0.]]\n",
      "cosine similarity 0 -> 2:  [[ 0.]]\n",
      "cosine similarity 0 -> 3:  [[ 0.]]\n",
      "cosine similarity 0 -> 4:  [[ 0.]]\n",
      "cosine similarity 0 -> 5:  [[ 0.09191891]]\n",
      "cosine similarity 0 -> 6:  [[ 0.07850767]]\n"
     ]
    }
   ],
   "source": [
    "print('cosine distance 0 -> 1: ', cosine(X[0].toarray(), X[1].toarray()))\n",
    "print('cosine distance 0 -> 2: ', cosine(X[0].toarray(), X[2].toarray()))\n",
    "print('cosine similarity 0 -> 1: ', cosine_similarity(X[0].toarray(), X[1].toarray()))\n",
    "print('cosine similarity 0 -> 2: ', cosine_similarity(X[0].toarray(), X[2].toarray()))\n",
    "print('cosine similarity 0 -> 3: ', cosine_similarity(X[0].toarray(), X[3].toarray()))\n",
    "print('cosine similarity 0 -> 4: ', cosine_similarity(X[0].toarray(), X[4].toarray()))\n",
    "print('cosine similarity 0 -> 5: ', cosine_similarity(X[0].toarray(), X[5].toarray()))\n",
    "print('cosine similarity 0 -> 6: ', cosine_similarity(X[0].toarray(), X[6].toarray()))\n",
    "# print(X)"
   ]
  },
  {
   "cell_type": "markdown",
   "metadata": {},
   "source": [
    "# TODO - Create a sparse matrix of similarities between every article"
   ]
  },
  {
   "cell_type": "markdown",
   "metadata": {},
   "source": [
    "# TODO - Plot the sparse matrix of similarities using a heatmap"
   ]
  },
  {
   "cell_type": "markdown",
   "metadata": {},
   "source": [
    "# TODO - Create a wordcloud of the feature_names"
   ]
  }
 ],
 "metadata": {
  "anaconda-cloud": {},
  "kernelspec": {
   "display_name": "Python 3",
   "language": "python",
   "name": "python3"
  },
  "language_info": {
   "codemirror_mode": {
    "name": "ipython",
    "version": 3
   },
   "file_extension": ".py",
   "mimetype": "text/x-python",
   "name": "python",
   "nbconvert_exporter": "python",
   "pygments_lexer": "ipython3",
   "version": "3.5.0"
  }
 },
 "nbformat": 4,
 "nbformat_minor": 1
}
